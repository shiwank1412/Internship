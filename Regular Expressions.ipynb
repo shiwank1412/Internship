{
 "cells": [
  {
   "cell_type": "markdown",
   "id": "5ca6c997",
   "metadata": {},
   "source": [
    "#Regular Expression"
   ]
  },
  {
   "cell_type": "code",
   "execution_count": null,
   "id": "892616fe",
   "metadata": {},
   "outputs": [],
   "source": [
    "Question 1- Write a Python program to replace all occurrences of a space, comma, or dot with a colon.\n",
    "Sample Text- 'Python Exercises, PHP exercises.'\n",
    "Expected Output: Python:Exercises::PHP:exercises:\n"
   ]
  },
  {
   "cell_type": "code",
   "execution_count": 36,
   "id": "96f52c10",
   "metadata": {},
   "outputs": [
    {
     "name": "stdout",
     "output_type": "stream",
     "text": [
      "python:Exercises::PHP:Exercises\n"
     ]
    }
   ],
   "source": [
    "# ANS:-\n",
    "\n",
    "import re\n",
    "text= 'python Exercises, PHP Exercises'\n",
    "print (re.sub(\"[, .]\", \":\",text))"
   ]
  },
  {
   "cell_type": "code",
   "execution_count": null,
   "id": "dc49d255",
   "metadata": {},
   "outputs": [],
   "source": [
    "Question 2-  Write a Python program to find all words starting with 'a' or 'e' in a given string."
   ]
  },
  {
   "cell_type": "code",
   "execution_count": null,
   "id": "042d04fa",
   "metadata": {},
   "outputs": [],
   "source": [
    "#ANS:- \n",
    "    #import re \n",
    "    text = \"Not even a path had existed here when she is lived in the area five years ago\"\n",
    "    list= re.findall (\"[ae]\\w+\",text)\n",
    "    print(list)"
   ]
  },
  {
   "cell_type": "code",
   "execution_count": null,
   "id": "9c2b0360",
   "metadata": {},
   "outputs": [],
   "source": [
    "Question 3- Create a function in python to find all words that are at least 4 characters long in a string.\n",
    "The use of the re.compile() method is mandatory."
   ]
  },
  {
   "cell_type": "code",
   "execution_count": null,
   "id": "36376f38",
   "metadata": {},
   "outputs": [],
   "source": [
    "#ANS:- \n",
    "    #import re\n",
    "    text = \"hello data science world and fliprobo\"\n",
    "    def text_match (text):\n",
    "        patterns= re.compile(r\"\\b\\w{4}\\b\")\n",
    "        if re.search (patterns,text):\n",
    "            return 'fount a match!'\n",
    "        else:\n",
    "            return ('not matched!')\n",
    "        print_text(\"hello data science worls and fliprobo\")"
   ]
  },
  {
   "cell_type": "code",
   "execution_count": null,
   "id": "f3a17084",
   "metadata": {},
   "outputs": [],
   "source": [
    "Question 4- Create a function in python to find all three, four, and five character words in a string.\n",
    "The use of the re.compile() method is mandatory."
   ]
  },
  {
   "cell_type": "code",
   "execution_count": null,
   "id": "a01d1ae6",
   "metadata": {},
   "outputs": [],
   "source": [
    "#ANS:- \n",
    "    deftext_match(text):\n",
    "        patterns = re.compile(r(\"\\b\\w{3,5}\\b\",text))\n",
    "            if re.search (patterns,text):\n",
    "                return 'found match!'\n",
    "            else:\n",
    "                returnn ('not matched!')\n",
    "                print_text (\"hello fliprobo team\")"
   ]
  },
  {
   "cell_type": "code",
   "execution_count": null,
   "id": "0aaebd47",
   "metadata": {},
   "outputs": [],
   "source": [
    "Question 5- Create a function in Python to remove the parenthesis in a list of strings. \n",
    "The use of the re.compile() method is mandatory.\n",
    "Sample Text: [\"example (.com)\", \"hr@fliprobo (.com)\", \"github (.com)\", \"Hello (Data Science World)\", \"Data (Scientist)\"]\n",
    "Expected Output:\n",
    "example.com\n",
    "hr@fliprobo.com\n",
    "github.com\n",
    "Hello Data Science World\n",
    "Data Scientist"
   ]
  },
  {
   "cell_type": "code",
   "execution_count": null,
   "id": "dc431975",
   "metadata": {},
   "outputs": [],
   "source": [
    "#ANS :-\n",
    "    def text_match (text):\n",
    "        patterns= re.compile (r\"?\\([^)]+\\)\",\"\")\n",
    "        items = [\"example (.com)\", \"hr@fliprobo (.com)\", \"github (.com)\", \"Hello (Data Science World)\", \"Data (Scientist)\"]\n",
    "        for item in items\n",
    "        if re.search (patterns, text):\n",
    "            return ('found match!')\n",
    "        else:\n",
    "            return ('not matched!')\n",
    "        print (re,sub (r\"?\\([^)]+\\)\",\"\",item))\n",
    "        "
   ]
  },
  {
   "cell_type": "code",
   "execution_count": null,
   "id": "ff3d6a74",
   "metadata": {},
   "outputs": [],
   "source": [
    "Question 6- Write a python program to remove the parenthesis area from the text stored in the text file using RegularExpression.\n",
    "Sample Text: [\"example (.com)\", \"hr@fliprobo (.com)\", \"github (.com)\", \"Hello (Data Science World)\", \"Data (Scientist)\"]\n",
    "Expected Output: [\"example\", \"hr@fliprobo\", \"github\", \"Hello\", \"Data\"]\n",
    "Note- Store given sample text in the text file and then to remove the parenthesis area from the text."
   ]
  },
  {
   "cell_type": "code",
   "execution_count": null,
   "id": "f28dc01b",
   "metadata": {},
   "outputs": [],
   "source": [
    "#ANS:-\n",
    "    import re\n",
    "    items  [\"example (.com)\", \"hr@fliprobo (.com)\", \"github (.com)\", \"Hello (Data Science World)\", \"Data (Scientist)\"]\n",
    "    for item in items \n",
    "    print (re.sub (r'\\([^()]*\\)',\"\",item))"
   ]
  },
  {
   "cell_type": "code",
   "execution_count": null,
   "id": "b1981ecd",
   "metadata": {},
   "outputs": [],
   "source": [
    "Question 7- Write a regular expression in Python to split a string into uppercase letters.\n",
    "Sample text: “ImportanceOfRegularExpressionsInPython”\n",
    "Expected Output: [‘Importance’, ‘Of’, ‘Regular’, ‘Expression’, ‘In’, ‘Python’]"
   ]
  },
  {
   "cell_type": "code",
   "execution_count": null,
   "id": "16e52d62",
   "metadata": {},
   "outputs": [],
   "source": [
    "#ANS:-\n",
    "    import re\n",
    "    text = “ImportanceOfRegularExpressionsInPython”\n",
    "    print (re.findall('[A-Z][^A-Z]*',text))"
   ]
  },
  {
   "cell_type": "code",
   "execution_count": null,
   "id": "4acfcb68",
   "metadata": {},
   "outputs": [],
   "source": [
    "Question 8- Create a function in python to insert spaces between words starting with numbers.\n",
    "Sample Text: “RegularExpression1IsAn2ImportantTopic3InPython\"\n",
    "Expected Output: RegularExpression 1IsAn 2ImportantTopic 3InPython "
   ]
  },
  {
   "cell_type": "code",
   "execution_count": null,
   "id": "38458788",
   "metadata": {},
   "outputs": [],
   "source": [
    "ANS:-\n",
    "    import re\n",
    "\n",
    "def insert_spaces(text):\n",
    "  pattern = r'(\\d+)([A-Za-z]+)'\n",
    "  result = re.sub(pattern, r'\\1 \\2', text)\n",
    "  return result\n",
    "text = \"RegularExpression1IsAn2ImportantTopic3InPython\"\n",
    "output = insert_spaces(text)\n",
    "print(output)    "
   ]
  },
  {
   "cell_type": "code",
   "execution_count": null,
   "id": "c5754800",
   "metadata": {},
   "outputs": [],
   "source": [
    "Question 9- Create a function in python to insert spaces between words starting with capital letters or with numbers.\n",
    "Sample Text: “RegularExpression1IsAn2ImportantTopic3InPython\"\n",
    "Expected Output:  RegularExpression 1 IsAn 2 ImportantTopic 3 InPython"
   ]
  },
  {
   "cell_type": "code",
   "execution_count": null,
   "id": "656c0922",
   "metadata": {},
   "outputs": [],
   "source": []
  },
  {
   "cell_type": "code",
   "execution_count": null,
   "id": "39e2f6be",
   "metadata": {},
   "outputs": [],
   "source": [
    "Question 10- Write a python program to extract email address from the text stored in the text file using Regular Expression.\n",
    "Sample Text- Hello my name is Data Science and my email address is xyz@domain.com and alternate email address is xyz.abc@sdomain.domain.com. \n",
    "Please contact us at hr@fliprobo.com for further information. \n",
    "Expected Output: \n",
    "['xyz@domain.com', 'xyz.abc@sdomain.domain.com']\n",
    "['hr@fliprobo.com']\n",
    "\n",
    "Note- Store given sample text in the text file and then extract email addresses."
   ]
  },
  {
   "cell_type": "code",
   "execution_count": null,
   "id": "aa313d7c",
   "metadata": {},
   "outputs": [],
   "source": [
    "#Ans:-\n",
    "    import re\n",
    "with open('text_file.txt', 'r') as file:\n",
    "  content = file.read()\n",
    "pattern = r'\\b[A-Za-z0-9._%+-]+@[A-Za-z0-9.-]+\\.[A-Za-z]{2,}\\b'\n",
    "email_addresses = re.findall(pattern, content)\n",
    "for email in email_addresses:\n",
    "  print(email)"
   ]
  },
  {
   "cell_type": "code",
   "execution_count": null,
   "id": "f0e2765f",
   "metadata": {},
   "outputs": [],
   "source": [
    "Question 11- Write a Python program to match a string that contains only upper and lowercase letters, numbers, and underscores."
   ]
  },
  {
   "cell_type": "code",
   "execution_count": null,
   "id": "74c70a03",
   "metadata": {},
   "outputs": [],
   "source": [
    "Ans :-\n",
    "    import re\n",
    "\n",
    "def match_string(string):\n",
    "  pattern = r'^[a-zA-Z0-9_]+$'\n",
    "  if re.match(pattern, string):\n",
    "  print(\"String matches the pattern\")\n",
    "  else:\n",
    "  print(\"String does not match the pattern\")\n",
    "\n",
    "match_string(\"Hello_World123\")\n",
    "match_string(\"Hello World\")   "
   ]
  },
  {
   "cell_type": "code",
   "execution_count": null,
   "id": "8b5ec296",
   "metadata": {},
   "outputs": [],
   "source": [
    "Question 12- Write a Python program where a string will start with a specific number."
   ]
  },
  {
   "cell_type": "code",
   "execution_count": null,
   "id": "9593eab6",
   "metadata": {},
   "outputs": [],
   "source": [
    "Ans:\n",
    "    def check_starting_number(string, number):\n",
    "  if string.startswith(str(number)):\n",
    "  return True\n",
    "  else:\n",
    "  return False\n",
    "\n",
    "string = \"123abc\"\n",
    "number = 123\n",
    "\n",
    "if check_starting_number(string, number):\n",
    "  print(\"The string starts with the specified number.\")\n",
    "else:\n",
    "  print(\"The string does not start with the specified number.\")\n"
   ]
  },
  {
   "cell_type": "code",
   "execution_count": null,
   "id": "59b4cb49",
   "metadata": {},
   "outputs": [],
   "source": [
    "Question 13- Write a Python program to remove leading zeros from an IP address."
   ]
  },
  {
   "cell_type": "code",
   "execution_count": 10,
   "id": "0c7e44fc",
   "metadata": {},
   "outputs": [
    {
     "name": "stdout",
     "output_type": "stream",
     "text": [
      "216.8.94.196\n"
     ]
    }
   ],
   "source": [
    "#Ans:\n",
    "\n",
    "ip = \"216.08.094.196\"\n",
    "string = re.sub('\\.[0]*', '.', ip)\n",
    "print(string)"
   ]
  },
  {
   "cell_type": "code",
   "execution_count": null,
   "id": "0f3c76ab",
   "metadata": {},
   "outputs": [],
   "source": [
    "Question 14- Write a regular expression in python to match a date string in the form of Month name followed by day number and year stored in a text file.\n",
    "Sample text :' On August 15th 1947 that India was declared independent from British colonialism, and the reins of control were handed over to the leaders of the Country’.\n",
    "Expected Output- August 15th 1947\n",
    "Note- Store given sample text in the text file and then extract the date string asked format.\n"
   ]
  },
  {
   "cell_type": "code",
   "execution_count": 9,
   "id": "84d4046e",
   "metadata": {},
   "outputs": [
    {
     "name": "stdout",
     "output_type": "stream",
     "text": [
      "August 15th 1947\n"
     ]
    }
   ],
   "source": [
    "#Ans: \n",
    "\n",
    "\n",
    "\n",
    "text = \"On August 15th 1947 that India was declared independent from British colonialism, and the reins of control were handed over to the leaders of the Country.\"\n",
    "\n",
    "pattern = r\"\\b([A-Z][a-z]+ \\d{1,2}(?:st|nd|rd|th)? \\d{4})\\b\"\n",
    "\n",
    "matches = re.findall(pattern, text)\n",
    "date_string = matches[0] if matches else None\n",
    "\n",
    "print(date_string)\n"
   ]
  },
  {
   "cell_type": "code",
   "execution_count": null,
   "id": "3fc3a96d",
   "metadata": {},
   "outputs": [],
   "source": [
    "Question 15- Write a Python program to search some literals strings in a string. \n",
    "Sample text : 'The quick brown fox jumps over the lazy dog.'\n",
    "Searched words : 'fox', 'dog', 'horse'"
   ]
  },
  {
   "cell_type": "code",
   "execution_count": 8,
   "id": "f3ba3412",
   "metadata": {},
   "outputs": [
    {
     "name": "stdout",
     "output_type": "stream",
     "text": [
      "Searching for \"fox\" in \"The quick brown fox jumps over the lazy dog.\" ->\n",
      "Matched!\n",
      "Searching for \"dog\" in \"The quick brown fox jumps over the lazy dog.\" ->\n",
      "Matched!\n",
      "Searching for \"horse\" in \"The quick brown fox jumps over the lazy dog.\" ->\n",
      "Not Matched!\n"
     ]
    }
   ],
   "source": [
    "#Ans:-\n",
    "   \n",
    "    \n",
    "patterns = [ 'fox', 'dog', 'horse' ]\n",
    "text = 'The quick brown fox jumps over the lazy dog.'\n",
    "for pattern in patterns:\n",
    "    print('Searching for \"%s\" in \"%s\" ->' % (pattern, text),)\n",
    "    if re.search(pattern,  text):\n",
    "        print('Matched!')\n",
    "    else:\n",
    "        print('Not Matched!')\n"
   ]
  },
  {
   "cell_type": "code",
   "execution_count": null,
   "id": "37c65c5f",
   "metadata": {},
   "outputs": [],
   "source": [
    "Question 16- Write a Python program to search a literals string in a string and also find the location within the original string where the pattern occurs\n",
    "Sample text : 'The quick brown fox jumps over the lazy dog.'\n",
    "Searched words : 'fox'"
   ]
  },
  {
   "cell_type": "code",
   "execution_count": 17,
   "id": "7a1d3536",
   "metadata": {},
   "outputs": [
    {
     "name": "stdout",
     "output_type": "stream",
     "text": [
      "Found \"fox\" in \"The quick brown fox jumps over the lazy dog.\" from 16 to 19 \n"
     ]
    }
   ],
   "source": [
    "#Ans:-\n",
    "    \n",
    "pattern = 'fox'\n",
    "text = 'The quick brown fox jumps over the lazy dog.'\n",
    "match = re.search(pattern, text)\n",
    "s = match.start()\n",
    "e = match.end()\n",
    "print('Found \"%s\" in \"%s\" from %d to %d ' % \\\n",
    "    (match.re.pattern, match.string, s, e))\n"
   ]
  },
  {
   "cell_type": "code",
   "execution_count": null,
   "id": "d3cc200d",
   "metadata": {},
   "outputs": [],
   "source": [
    "Question 17- Write a Python program to find the substrings within a string.\n",
    "Sample text : 'Python exercises, PHP exercises, C# exercises'\n",
    "Pattern : 'exercises'."
   ]
  },
  {
   "cell_type": "code",
   "execution_count": 19,
   "id": "e3556de6",
   "metadata": {},
   "outputs": [
    {
     "name": "stdout",
     "output_type": "stream",
     "text": [
      "Found \"exercises\"\n",
      "Found \"exercises\"\n",
      "Found \"exercises\"\n"
     ]
    }
   ],
   "source": [
    "#Ans:- \n",
    "    \n",
    "text = 'Python exercises, PHP exercises, C# exercises'\n",
    "pattern = 'exercises'\n",
    "for match in re.findall(pattern, text):\n",
    "    print('Found \"%s\"' % match)\n"
   ]
  },
  {
   "cell_type": "code",
   "execution_count": null,
   "id": "a6207879",
   "metadata": {},
   "outputs": [],
   "source": [
    "Question 18- Write a Python program to find the occurrence and position of the substrings within a string."
   ]
  },
  {
   "cell_type": "code",
   "execution_count": 21,
   "id": "0597da20",
   "metadata": {},
   "outputs": [
    {
     "name": "stdout",
     "output_type": "stream",
     "text": [
      "Found \"exercises\" at 7:16\n",
      "Found \"exercises\" at 22:31\n",
      "Found \"exercises\" at 36:45\n"
     ]
    }
   ],
   "source": [
    "#Ans:-\n",
    "    \n",
    "text = 'Python exercises, PHP exercises, C# exercises'\n",
    "pattern = 'exercises'\n",
    "for match in re.finditer(pattern, text):\n",
    "    s = match.start()\n",
    "    e = match.end()\n",
    "    print('Found \"%s\" at %d:%d' % (text[s:e], s, e))\n"
   ]
  },
  {
   "cell_type": "code",
   "execution_count": null,
   "id": "61eccdbd",
   "metadata": {},
   "outputs": [],
   "source": [
    "Question 19- Write a Python program to convert a date of yyyy-mm-dd format to dd-mm-yyyy format."
   ]
  },
  {
   "cell_type": "code",
   "execution_count": 43,
   "id": "78b2779f",
   "metadata": {},
   "outputs": [
    {
     "name": "stdout",
     "output_type": "stream",
     "text": [
      "Original date in YYY-MM-DD Format:  2026-01-02\n",
      "New date in DD-MM-YYYY Format:  02-01-2026\n"
     ]
    }
   ],
   "source": [
    "#Ans:- \n",
    "    #import re\n",
    "def change_date_format(dt):\n",
    "        return re.sub(r'(\\d{4})-(\\d{1,2})-(\\d{1,2})', '\\\\3-\\\\2-\\\\1', dt)\n",
    "dt1 = \"2026-01-02\"\n",
    "print(\"Original date in YYY-MM-DD Format: \",dt1)\n",
    "print(\"New date in DD-MM-YYYY Format: \",change_date_format(dt1))\n"
   ]
  },
  {
   "cell_type": "code",
   "execution_count": null,
   "id": "f1016d66",
   "metadata": {},
   "outputs": [],
   "source": [
    "Question 20- Create a function in python to find all decimal numbers with a precision of 1 or 2 in a string. The use of the re.compile() method is mandatory.\n",
    "Sample Text: \"01.12 0132.123 2.31875 145.8 3.01 27.25 0.25\"\n",
    "Expected Output: ['01.12', '145.8', '3.01', '27.25', '0.25']\n"
   ]
  },
  {
   "cell_type": "code",
   "execution_count": 23,
   "id": "a2650d65",
   "metadata": {},
   "outputs": [
    {
     "name": "stdout",
     "output_type": "stream",
     "text": [
      "['01.12', '0132.12', '2.31', '145.8', '3.01', '27.25', '0.25']\n"
     ]
    }
   ],
   "source": [
    "#Ans:-\n",
    "    #import re\n",
    "\n",
    "def find_decimal_numbers(string):\n",
    "  pattern = re.compile(r'\\d+\\.\\d{1,2}')\n",
    "  decimal_numbers = re.findall(pattern, string)\n",
    "  return decimal_numbers\n",
    "sample_text = \"01.12 0132.123 2.31875 145.8 3.01 27.25 0.25\"\n",
    "output = find_decimal_numbers(sample_text)\n",
    "print(output)\n"
   ]
  },
  {
   "cell_type": "code",
   "execution_count": null,
   "id": "61128b44",
   "metadata": {},
   "outputs": [],
   "source": [
    "Question 21- Write a Python program to separate and print the numbers and their position of a given string."
   ]
  },
  {
   "cell_type": "code",
   "execution_count": 26,
   "id": "e371858e",
   "metadata": {},
   "outputs": [
    {
     "name": "stdout",
     "output_type": "stream",
     "text": [
      "50\n",
      "Index position: 62\n"
     ]
    }
   ],
   "source": [
    "#Ans:-\n",
    "    #import re\n",
    "text = \"The following example creates an ArrayList with a capacity of 50 elements. Four elements are then added to the ArrayList and the ArrayList is trimmed accordingly.\"\n",
    "\n",
    "for m in re.finditer(\"\\d+\", text):\n",
    "    print(m.group(0))\n",
    "    print(\"Index position:\", m.start())\n"
   ]
  },
  {
   "cell_type": "code",
   "execution_count": null,
   "id": "e94c8b4a",
   "metadata": {},
   "outputs": [],
   "source": [
    "Question 22- Write a regular expression in python program to extract maximum/largest numeric value from a string.\n",
    "Sample Text:  'My marks in each semester are: 947, 896, 926, 524, 734, 950, 642'\n",
    "Expected Output: 950\n"
   ]
  },
  {
   "cell_type": "code",
   "execution_count": null,
   "id": "bf8ee409",
   "metadata": {},
   "outputs": [],
   "source": []
  },
  {
   "cell_type": "code",
   "execution_count": null,
   "id": "0bca9f30",
   "metadata": {},
   "outputs": [],
   "source": [
    "Question 23- Create a function in python to insert spaces between words starting with capital letters.\n",
    "Sample Text: “RegularExpressionIsAnImportantTopicInPython\"\n",
    "Expected Output: Regular Expression Is An Important Topic In Python"
   ]
  },
  {
   "cell_type": "code",
   "execution_count": 28,
   "id": "9d689dbf",
   "metadata": {},
   "outputs": [
    {
     "name": "stdout",
     "output_type": "stream",
     "text": [
      "Regular\n",
      "Regular Exprssion\n",
      "Regular Expression Is An Important Topic In Python\n"
     ]
    }
   ],
   "source": [
    "#Ans:- \n",
    "    #import re\n",
    "def capital_words_spaces(str1):\n",
    "  return re.sub(r\"(\\w)([A-Z])\", r\"\\1 \\2\", str1)\n",
    "\n",
    "print(capital_words_spaces(\"Regular\"))\n",
    "print(capital_words_spaces(\"RegularExprssion\"))\n",
    "print(capital_words_spaces(\"RegularExpressionIsAnImportantTopicInPython\"))\n"
   ]
  },
  {
   "cell_type": "code",
   "execution_count": null,
   "id": "71c4fa41",
   "metadata": {},
   "outputs": [],
   "source": [
    "Question 24- Python regex to find sequences of one upper case letter followed by lower case letters."
   ]
  },
  {
   "cell_type": "code",
   "execution_count": 29,
   "id": "38697474",
   "metadata": {},
   "outputs": [
    {
     "name": "stdout",
     "output_type": "stream",
     "text": [
      "['This', 'Sample', 'Text', 'Multiple', 'Matches']\n"
     ]
    }
   ],
   "source": [
    "#Ans:\n",
    "    #import re\n",
    "\n",
    "pattern = r'[A-Z][a-z]+'\n",
    "text = \"This is a Sample Text with Multiple Matches\"\n",
    "\n",
    "matches = re.findall(pattern, text)\n",
    "print(matches)\n"
   ]
  },
  {
   "cell_type": "code",
   "execution_count": null,
   "id": "9728948b",
   "metadata": {},
   "outputs": [],
   "source": [
    "Question 25- Write a Python program to remove continuous duplicate words from Sentence using Regular Expression.\n",
    "Sample Text: \"Hello hello world world\"\n",
    "Expected Output: Hello hello world\n"
   ]
  },
  {
   "cell_type": "code",
   "execution_count": 45,
   "id": "257cb231",
   "metadata": {},
   "outputs": [
    {
     "name": "stdout",
     "output_type": "stream",
     "text": [
      "Hello hello world\n"
     ]
    }
   ],
   "source": [
    "#Ans:-\n",
    "   # import re\n",
    "\n",
    "def remove_duplicates(sentence):\n",
    "  pattern = r'\\b(\\w+)(\\s+\\1\\b)+'\n",
    "  result = re.sub(pattern, r'\\1', sentence)\n",
    "  return result\n",
    "\n",
    "sentence = \"Hello hello world world\"\n",
    "output = remove_duplicates(sentence)\n",
    "print(output)\n"
   ]
  },
  {
   "cell_type": "code",
   "execution_count": null,
   "id": "8db2cd88",
   "metadata": {},
   "outputs": [],
   "source": [
    "Question 26-  Write a python program using RegEx to accept string ending with alphanumeric character."
   ]
  },
  {
   "cell_type": "code",
   "execution_count": null,
   "id": "a3337757",
   "metadata": {},
   "outputs": [],
   "source": [
    "#Ans:- \n",
    "    import re\n",
    "\n",
    "def check_string(string):\n",
    "  pattern = r\"\\w$\"\n",
    "  match = re.search(pattern, string)\n",
    "  if match:\n",
    "  return True\n",
    " else:\n",
    "  return False\n",
    "input_string = input(\"Enter a string: \")\n",
    "if check_string(input_string):\n",
    "  print(\"String ends with an alphanumeric character\")\n",
    "else:\n",
    "  print(\"String does not end with an alphanumeric character\")\n"
   ]
  },
  {
   "cell_type": "code",
   "execution_count": null,
   "id": "6dd46fd5",
   "metadata": {},
   "outputs": [],
   "source": [
    "Question 27-Write a python program using RegEx to extract the hashtags.\n",
    "Sample Text:  \"\"\"RT @kapil_kausik: #Doltiwal I mean #xyzabc is \"hurt\" by #Demonetization as the same has rendered USELESS <ed><U+00A0><U+00BD><ed><U+00B1><U+0089> \"acquired funds\" No wo\"\"\"\n",
    "Expected Output: ['#Doltiwal', '#xyzabc', '#Demonetization']\n"
   ]
  },
  {
   "cell_type": "code",
   "execution_count": 50,
   "id": "e3c49364",
   "metadata": {},
   "outputs": [
    {
     "name": "stdout",
     "output_type": "stream",
     "text": [
      "['#Doltiwal', '#xyzabc', '#Demonetization']\n"
     ]
    }
   ],
   "source": [
    "#Ans:-\n",
    "    #import re\n",
    "\n",
    "def extract_hashtags(text):\n",
    "  hashtags = re.findall(r'#\\w+', text)\n",
    "  return hashtags\n",
    "\n",
    "text = 'RT @kapil_kausik: #Doltiwal I mean #xyzabc is \"hurt\" by #Demonetization as the same has rendered USELESS <ed><U+00A0><U+00BD><ed><U+00B1><U+0089> \"acquired funds\" No wo'\n",
    "\n",
    "hashtags = extract_hashtags(text)\n",
    "\n",
    "print(hashtags)\n"
   ]
  },
  {
   "cell_type": "code",
   "execution_count": null,
   "id": "7b79ae0a",
   "metadata": {},
   "outputs": [],
   "source": [
    "Question 28- Write a python program using RegEx to remove <U+..> like symbols\n",
    "Check the below sample text, there are strange symbols something of the sort <U+..> all over the place. You need to come up with a general Regex expression that will cover all such symbols.\n",
    "Sample Text: \"@Jags123456 Bharat band on 28??<ed><U+00A0><U+00BD><ed><U+00B8><U+0082>Those who  are protesting #demonetization  are all different party leaders\"\n",
    "Expected Output: @Jags123456 Bharat band on 28??<ed><ed>Those who  are protesting #demonetization  are all different party leaders\n"
   ]
  },
  {
   "cell_type": "code",
   "execution_count": 52,
   "id": "d7c9c6a8",
   "metadata": {},
   "outputs": [
    {
     "name": "stdout",
     "output_type": "stream",
     "text": [
      "@Jags123456 Bharat band on 28??<ed><ed>Those who are protesting #demonetization are all different party leaders\n"
     ]
    }
   ],
   "source": [
    "#Ans:-\n",
    "   import re\n",
    "\n",
    "input_text = \"@Jags123456 Bharat band on 28??<ed><U+00A0><U+00BD><ed><U+00B8><U+0082>Those who are protesting #demonetization are all different party leaders\"\n",
    "\n",
    "pattern = r\"<U\\+\\w{4}>\"\n",
    "output_text = re.sub(pattern, \"\", input_text)\n",
    "\n",
    "print(output_text)\n"
   ]
  },
  {
   "cell_type": "code",
   "execution_count": null,
   "id": "7d257fab",
   "metadata": {},
   "outputs": [],
   "source": [
    "Question 29- Write a python program to extract dates from the text stored in the text file.\n",
    "Sample Text: Ron was born on 12-09-1992 and he was admitted to school 15-12-1999.\n",
    "Note- Store this sample text in the file and then extract dates.\n"
   ]
  },
  {
   "cell_type": "code",
   "execution_count": null,
   "id": "815f7c8f",
   "metadata": {},
   "outputs": [],
   "source": [
    "Ans: - \n",
    "    import re\n",
    "\n",
    "with open('filename.txt', 'r') as file:\n",
    "  text = file.read()\n",
    "pattern = r'\\d{2}-\\d{2}-\\d{4}'\n",
    "dates = re.findall(pattern, text)\n",
    "for date in dates:\n",
    "  print(date)\n"
   ]
  },
  {
   "cell_type": "code",
   "execution_count": null,
   "id": "8bf51526",
   "metadata": {},
   "outputs": [],
   "source": [
    "Question 30- Create a function in python to remove all words from a string of length between 2 and 4.\n",
    "The use of the re.compile() method is mandatory.\n",
    "Sample Text: \"The following example creates an ArrayList with a capacity of 50 elements. 4 elements are then added to the ArrayList and the ArrayList is trimmed accordingly.\"\n",
    "Expected Output:  following example creates ArrayList a capacity elements. 4 elements added ArrayList ArrayList trimmed accordingly.\n"
   ]
  }
 ],
 "metadata": {
  "kernelspec": {
   "display_name": "Python 3 (ipykernel)",
   "language": "python",
   "name": "python3"
  },
  "language_info": {
   "codemirror_mode": {
    "name": "ipython",
    "version": 3
   },
   "file_extension": ".py",
   "mimetype": "text/x-python",
   "name": "python",
   "nbconvert_exporter": "python",
   "pygments_lexer": "ipython3",
   "version": "3.10.9"
  }
 },
 "nbformat": 4,
 "nbformat_minor": 5
}
